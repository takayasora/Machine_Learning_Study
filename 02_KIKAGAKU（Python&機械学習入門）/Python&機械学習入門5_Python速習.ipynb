{
  "cells": [
    {
      "cell_type": "markdown",
      "metadata": {},
      "source": [
        "# 環境構築"
      ]
    },
    {
      "cell_type": "markdown",
      "metadata": {
        "id": "f-ijYl7ZW1tv"
      },
      "source": [
        "Ctrl + M → B で下にセルを追加\n",
        "\n",
        "Ctrl + M → A で上にセルを追加\n",
        "\n",
        "Ctrl + M → M でテキストモード（Ctrl + M（長押し） でも可）\n",
        "\n",
        "Ctrl + M → Y でコードモード\n",
        "\n",
        "Ctrl + M → D でセル削除"
      ]
    },
    {
      "cell_type": "markdown",
      "metadata": {},
      "source": [
        "# 基本構文"
      ]
    },
    {
      "cell_type": "markdown",
      "metadata": {
        "id": "4ZZ6N7LBamft"
      },
      "source": [
        "比較演算子"
      ]
    },
    {
      "cell_type": "code",
      "execution_count": null,
      "metadata": {
        "colab": {
          "base_uri": "https://localhost:8080/"
        },
        "id": "tyofvllVaUJQ",
        "outputId": "f312dc31-75eb-4482-ef6c-ee2541965a0f"
      },
      "outputs": [
        {
          "data": {
            "text/plain": [
              "False"
            ]
          },
          "execution_count": 4,
          "metadata": {},
          "output_type": "execute_result"
        }
      ],
      "source": [
        "2<1"
      ]
    },
    {
      "cell_type": "code",
      "execution_count": null,
      "metadata": {
        "id": "0TkhcZ6haV8p"
      },
      "outputs": [],
      "source": [
        "a=3"
      ]
    },
    {
      "cell_type": "code",
      "execution_count": null,
      "metadata": {
        "colab": {
          "base_uri": "https://localhost:8080/"
        },
        "id": "gFv0KnZmaYB3",
        "outputId": "bede3413-a0cc-477e-a507-b1d62e96cc52"
      },
      "outputs": [
        {
          "data": {
            "text/plain": [
              "False"
            ]
          },
          "execution_count": 6,
          "metadata": {},
          "output_type": "execute_result"
        }
      ],
      "source": [
        "a<2"
      ]
    },
    {
      "cell_type": "code",
      "execution_count": null,
      "metadata": {
        "colab": {
          "base_uri": "https://localhost:8080/"
        },
        "id": "y8AIQWEOaZkm",
        "outputId": "0d0855dc-6542-42a9-fd45-e4b463f11fc6"
      },
      "outputs": [
        {
          "data": {
            "text/plain": [
              "True"
            ]
          },
          "execution_count": 7,
          "metadata": {},
          "output_type": "execute_result"
        }
      ],
      "source": [
        "a==3"
      ]
    },
    {
      "cell_type": "code",
      "execution_count": null,
      "metadata": {
        "colab": {
          "base_uri": "https://localhost:8080/"
        },
        "id": "A8toaSONaa7z",
        "outputId": "0db5054b-55fc-4e94-c72c-60f2f68fa503"
      },
      "outputs": [
        {
          "data": {
            "text/plain": [
              "False"
            ]
          },
          "execution_count": 8,
          "metadata": {},
          "output_type": "execute_result"
        }
      ],
      "source": [
        "a==4"
      ]
    },
    {
      "cell_type": "code",
      "execution_count": null,
      "metadata": {
        "colab": {
          "base_uri": "https://localhost:8080/"
        },
        "id": "7GobvyAoacRB",
        "outputId": "fe4c7446-6f98-4a52-b7f0-47df949ec893"
      },
      "outputs": [
        {
          "data": {
            "text/plain": [
              "False"
            ]
          },
          "execution_count": 9,
          "metadata": {},
          "output_type": "execute_result"
        }
      ],
      "source": [
        "a!=3"
      ]
    },
    {
      "cell_type": "code",
      "execution_count": null,
      "metadata": {
        "colab": {
          "base_uri": "https://localhost:8080/"
        },
        "id": "zq0Rnz9eak5x",
        "outputId": "c5a7b551-e444-427b-e2f1-277d94a27de3"
      },
      "outputs": [
        {
          "data": {
            "text/plain": [
              "True"
            ]
          },
          "execution_count": 10,
          "metadata": {},
          "output_type": "execute_result"
        }
      ],
      "source": [
        "a!=4"
      ]
    },
    {
      "cell_type": "markdown",
      "metadata": {
        "id": "MCk7Y3eCap7r"
      },
      "source": [
        "エスケープシーケンス"
      ]
    },
    {
      "cell_type": "code",
      "execution_count": null,
      "metadata": {
        "colab": {
          "base_uri": "https://localhost:8080/"
        },
        "id": "ez4TLhUVar95",
        "outputId": "abe8a02f-c5f7-457d-811f-821444981abf"
      },
      "outputs": [
        {
          "name": "stdout",
          "output_type": "stream",
          "text": [
            "私はキカガクです。よろしくお願いします。\n"
          ]
        }
      ],
      "source": [
        "print(\"私はキカガクです。よろしくお願いします。\")"
      ]
    },
    {
      "cell_type": "code",
      "execution_count": null,
      "metadata": {
        "colab": {
          "base_uri": "https://localhost:8080/"
        },
        "id": "JxxYJ13aa2Rc",
        "outputId": "d70b8f97-70f4-4074-f5b0-0b5cec0b3932"
      },
      "outputs": [
        {
          "name": "stdout",
          "output_type": "stream",
          "text": [
            "私はキカガクです。\n",
            "よろしくお願いします。\n"
          ]
        }
      ],
      "source": [
        "print(\"私はキカガクです。\\nよろしくお願いします。\")"
      ]
    },
    {
      "cell_type": "code",
      "execution_count": null,
      "metadata": {
        "colab": {
          "base_uri": "https://localhost:8080/"
        },
        "id": "GJttjhQMfDI6",
        "outputId": "926af4be-d630-4198-eac1-b9cea0d7bb6d"
      },
      "outputs": [
        {
          "name": "stdout",
          "output_type": "stream",
          "text": [
            "私はキカガクです。\n",
            "よろしくお願いします。\n",
            "\tタブ\n",
            "\tタブ\n"
          ]
        }
      ],
      "source": [
        "print(\"私はキカガクです。\\nよろしくお願いします。\\n\\tタブ\\n\\tタブ\")"
      ]
    },
    {
      "cell_type": "markdown",
      "metadata": {
        "id": "heV1i2vFfRwv"
      },
      "source": [
        "# 制御構文"
      ]
    },
    {
      "cell_type": "code",
      "execution_count": null,
      "metadata": {
        "colab": {
          "base_uri": "https://localhost:8080/"
        },
        "id": "LwkbW6tVfT2e",
        "outputId": "4ec01f34-f4fb-4dff-f86b-ab6f0fce47e7"
      },
      "outputs": [
        {
          "name": "stdout",
          "output_type": "stream",
          "text": [
            "0\n",
            "1\n",
            "2\n",
            "3\n",
            "4\n"
          ]
        }
      ],
      "source": [
        "for i in range(5):\n",
        "  print(i)"
      ]
    },
    {
      "cell_type": "code",
      "execution_count": null,
      "metadata": {
        "colab": {
          "base_uri": "https://localhost:8080/"
        },
        "id": "J5vZ7bA8fYtZ",
        "outputId": "b4bda407-dc56-4b5e-fe52-7db66e790e26"
      },
      "outputs": [
        {
          "name": "stdout",
          "output_type": "stream",
          "text": [
            "0\n",
            "キカガク\n",
            "1\n",
            "キカガク\n",
            "2\n",
            "キカガク\n",
            "3\n",
            "キカガク\n",
            "4\n",
            "キカガク\n"
          ]
        }
      ],
      "source": [
        "for i in range(5):\n",
        "  print(i)\n",
        "  print(\"キカガク\")"
      ]
    },
    {
      "cell_type": "code",
      "execution_count": null,
      "metadata": {
        "colab": {
          "base_uri": "https://localhost:8080/"
        },
        "id": "PBmc4F3Gf1v3",
        "outputId": "ee39b1c6-baba-48a4-a85e-d6178a7ad98b"
      },
      "outputs": [
        {
          "name": "stdout",
          "output_type": "stream",
          "text": [
            "['cat', 'dog', 'bard']\n"
          ]
        }
      ],
      "source": [
        "animals = [\"cat\",\"dog\",\"bard\"]\n",
        "print(animals)"
      ]
    },
    {
      "cell_type": "code",
      "execution_count": null,
      "metadata": {
        "colab": {
          "base_uri": "https://localhost:8080/",
          "height": 36
        },
        "id": "ZvaYBx7FgCsj",
        "outputId": "cad6ca7b-2474-4b03-8551-3b835df8f729"
      },
      "outputs": [
        {
          "data": {
            "application/vnd.google.colaboratory.intrinsic+json": {
              "type": "string"
            },
            "text/plain": [
              "'cat'"
            ]
          },
          "execution_count": 17,
          "metadata": {},
          "output_type": "execute_result"
        }
      ],
      "source": [
        "animals[0]"
      ]
    },
    {
      "cell_type": "code",
      "execution_count": null,
      "metadata": {
        "colab": {
          "base_uri": "https://localhost:8080/"
        },
        "id": "BGBVUXU4gJnF",
        "outputId": "d61d6dc4-3bde-40a8-d2b0-4c5b8d5ff40c"
      },
      "outputs": [
        {
          "name": "stdout",
          "output_type": "stream",
          "text": [
            "cat\n",
            "dog\n",
            "bard\n"
          ]
        }
      ],
      "source": [
        "for i in range(3):\n",
        "  print(animals[i])"
      ]
    },
    {
      "cell_type": "code",
      "execution_count": null,
      "metadata": {
        "colab": {
          "base_uri": "https://localhost:8080/"
        },
        "id": "MvbDQI4_gQk0",
        "outputId": "b352fca5-2200-4003-ae6f-c204e3ac6cc9"
      },
      "outputs": [
        {
          "name": "stdout",
          "output_type": "stream",
          "text": [
            "cat\n",
            "dog\n",
            "bard\n"
          ]
        }
      ],
      "source": [
        "for i in range(len(animals)):\n",
        "  print(animals[i])"
      ]
    },
    {
      "cell_type": "code",
      "execution_count": null,
      "metadata": {
        "colab": {
          "base_uri": "https://localhost:8080/"
        },
        "id": "j-tQYFDFhry1",
        "outputId": "9e782838-f5ae-4ae6-cd50-0624e597695d"
      },
      "outputs": [
        {
          "name": "stdout",
          "output_type": "stream",
          "text": [
            "cat\n",
            "dog\n",
            "bard\n"
          ]
        }
      ],
      "source": [
        "for animal in animals:\n",
        "  print(animal)"
      ]
    },
    {
      "cell_type": "code",
      "execution_count": null,
      "metadata": {
        "id": "8_t0T0Yeh6j4"
      },
      "outputs": [],
      "source": [
        "numbers = [1,2,3]\n",
        "animals = ['dog','cat','bard']"
      ]
    },
    {
      "cell_type": "code",
      "execution_count": null,
      "metadata": {
        "colab": {
          "base_uri": "https://localhost:8080/"
        },
        "id": "gMGvdBsWiDqS",
        "outputId": "5f76fb98-c0f9-44e0-b186-5cd128f938ef"
      },
      "outputs": [
        {
          "name": "stdout",
          "output_type": "stream",
          "text": [
            "1\n",
            "dog\n",
            "cat\n",
            "bard\n",
            "2\n",
            "dog\n",
            "cat\n",
            "bard\n",
            "3\n",
            "dog\n",
            "cat\n",
            "bard\n"
          ]
        }
      ],
      "source": [
        "for number in numbers:\n",
        "  print(number)\n",
        "  for animal in animals:\n",
        "    print(animal)"
      ]
    },
    {
      "cell_type": "code",
      "execution_count": null,
      "metadata": {
        "colab": {
          "base_uri": "https://localhost:8080/"
        },
        "id": "F3JrHGmG8o-Q",
        "outputId": "463312b6-b78b-4f3b-d223-363eca8ab113"
      },
      "outputs": [
        {
          "name": "stdout",
          "output_type": "stream",
          "text": [
            "1\n",
            "dog\n",
            "2\n",
            "cat\n",
            "3\n",
            "bard\n"
          ]
        }
      ],
      "source": [
        "for number,animal in zip(numbers,animals):\n",
        "  print(number)\n",
        "  print(animal)"
      ]
    },
    {
      "cell_type": "code",
      "execution_count": null,
      "metadata": {
        "colab": {
          "base_uri": "https://localhost:8080/"
        },
        "id": "ylCNr1x1DbyE",
        "outputId": "5f88f92f-4d16-4af1-edf8-1d1809f7ccb8"
      },
      "outputs": [
        {
          "name": "stdout",
          "output_type": "stream",
          "text": [
            "正の値です。\n"
          ]
        }
      ],
      "source": [
        "number = 1\n",
        "if number > 0:\n",
        "  print('正の値です。')"
      ]
    },
    {
      "cell_type": "code",
      "execution_count": null,
      "metadata": {
        "colab": {
          "base_uri": "https://localhost:8080/"
        },
        "id": "Ps3B73F-Di4T",
        "outputId": "c47af349-0982-4ea2-f697-e07921f8fc07"
      },
      "outputs": [
        {
          "name": "stdout",
          "output_type": "stream",
          "text": [
            "負の値です。\n"
          ]
        }
      ],
      "source": [
        "number = -1\n",
        "if number > 0:\n",
        "  print('正の値です。')\n",
        "else:\n",
        "  print('負の値です。')"
      ]
    },
    {
      "cell_type": "code",
      "execution_count": null,
      "metadata": {
        "colab": {
          "base_uri": "https://localhost:8080/"
        },
        "id": "_PtfKq1AD0W2",
        "outputId": "f49d79eb-b8a7-4532-b31e-de60d36b8e20"
      },
      "outputs": [
        {
          "name": "stdout",
          "output_type": "stream",
          "text": [
            "0です。\n"
          ]
        }
      ],
      "source": [
        "number = 0\n",
        "if number > 0:\n",
        "  print('正の値です。')\n",
        "elif number ==0:\n",
        "  print('0です。')\n",
        "else:\n",
        "  print('負の値です。')"
      ]
    },
    {
      "cell_type": "markdown",
      "metadata": {},
      "source": [
        "# 関数"
      ]
    },
    {
      "cell_type": "code",
      "execution_count": 2,
      "metadata": {},
      "outputs": [
        {
          "name": "stdout",
          "output_type": "stream",
          "text": [
            "こんにちは、株式会社キカガクです。\n"
          ]
        }
      ],
      "source": [
        "print('こんにちは、株式会社キカガクです。')"
      ]
    },
    {
      "cell_type": "code",
      "execution_count": 3,
      "metadata": {},
      "outputs": [],
      "source": [
        "def say_hallo():\n",
        "  print('こんにちは、株式会社キカガクです。')"
      ]
    },
    {
      "cell_type": "code",
      "execution_count": 4,
      "metadata": {},
      "outputs": [
        {
          "name": "stdout",
          "output_type": "stream",
          "text": [
            "こんにちは、株式会社キカガクです。\n"
          ]
        }
      ],
      "source": [
        "say_hallo()"
      ]
    },
    {
      "cell_type": "code",
      "execution_count": 5,
      "metadata": {},
      "outputs": [],
      "source": [
        "# 使い方その1\n",
        "def say_hallo(name):\n",
        "  print('こんにちは、' + name + 'です。')"
      ]
    },
    {
      "cell_type": "code",
      "execution_count": 7,
      "metadata": {},
      "outputs": [
        {
          "name": "stdout",
          "output_type": "stream",
          "text": [
            "こんにちは、KIKAGAKUです。\n"
          ]
        }
      ],
      "source": [
        "say_hallo(name='KIKAGAKU')"
      ]
    },
    {
      "cell_type": "code",
      "execution_count": 8,
      "metadata": {},
      "outputs": [],
      "source": [
        "# 使い方その2\n",
        "def say_hallo(name):\n",
        "  print('こんにちは、{}です。'.format(name))"
      ]
    },
    {
      "cell_type": "code",
      "execution_count": 9,
      "metadata": {},
      "outputs": [
        {
          "name": "stdout",
          "output_type": "stream",
          "text": [
            "こんにちは、KIKAGAKUです。\n"
          ]
        }
      ],
      "source": [
        "say_hallo(name='KIKAGAKU')"
      ]
    },
    {
      "cell_type": "code",
      "execution_count": 10,
      "metadata": {},
      "outputs": [],
      "source": [
        "# 使い方その3\n",
        "def say_hallo(name):\n",
        "  print(f'こんにちは、{name}です。')"
      ]
    },
    {
      "cell_type": "code",
      "execution_count": 11,
      "metadata": {},
      "outputs": [
        {
          "name": "stdout",
          "output_type": "stream",
          "text": [
            "こんにちは、KIKAGAKUです。\n"
          ]
        }
      ],
      "source": [
        "say_hallo(name='KIKAGAKU')"
      ]
    },
    {
      "cell_type": "code",
      "execution_count": 12,
      "metadata": {},
      "outputs": [],
      "source": [
        "def calc(a, b):\n",
        "  print(a + b)"
      ]
    },
    {
      "cell_type": "code",
      "execution_count": 13,
      "metadata": {},
      "outputs": [
        {
          "name": "stdout",
          "output_type": "stream",
          "text": [
            "3\n"
          ]
        }
      ],
      "source": [
        "result = calc(a=1, b=2)"
      ]
    },
    {
      "cell_type": "code",
      "execution_count": 15,
      "metadata": {},
      "outputs": [
        {
          "data": {
            "text/plain": [
              "NoneType"
            ]
          },
          "execution_count": 15,
          "metadata": {},
          "output_type": "execute_result"
        }
      ],
      "source": [
        "type(result)"
      ]
    },
    {
      "cell_type": "code",
      "execution_count": 16,
      "metadata": {},
      "outputs": [],
      "source": [
        "def calc(a, b):\n",
        "  return a + b"
      ]
    },
    {
      "cell_type": "code",
      "execution_count": 17,
      "metadata": {},
      "outputs": [],
      "source": [
        "result = calc(a=1, b=2)"
      ]
    },
    {
      "cell_type": "code",
      "execution_count": 18,
      "metadata": {},
      "outputs": [
        {
          "data": {
            "text/plain": [
              "3"
            ]
          },
          "execution_count": 18,
          "metadata": {},
          "output_type": "execute_result"
        }
      ],
      "source": [
        "result"
      ]
    },
    {
      "cell_type": "code",
      "execution_count": 20,
      "metadata": {},
      "outputs": [],
      "source": [
        "def calc(a=2, b=3):\n",
        "  return a + b"
      ]
    },
    {
      "cell_type": "code",
      "execution_count": 21,
      "metadata": {},
      "outputs": [],
      "source": [
        "result = calc()"
      ]
    },
    {
      "cell_type": "code",
      "execution_count": 22,
      "metadata": {},
      "outputs": [
        {
          "data": {
            "text/plain": [
              "5"
            ]
          },
          "execution_count": 22,
          "metadata": {},
          "output_type": "execute_result"
        }
      ],
      "source": [
        "result"
      ]
    },
    {
      "cell_type": "code",
      "execution_count": 24,
      "metadata": {},
      "outputs": [
        {
          "data": {
            "text/plain": [
              "int"
            ]
          },
          "execution_count": 24,
          "metadata": {},
          "output_type": "execute_result"
        }
      ],
      "source": [
        "type(result)"
      ]
    },
    {
      "cell_type": "code",
      "execution_count": 25,
      "metadata": {},
      "outputs": [
        {
          "data": {
            "text/plain": [
              "9"
            ]
          },
          "execution_count": 25,
          "metadata": {},
          "output_type": "execute_result"
        }
      ],
      "source": [
        "# 引数の変数名は省略してよい\n",
        "calc(4, 5)"
      ]
    },
    {
      "cell_type": "code",
      "execution_count": 26,
      "metadata": {},
      "outputs": [
        {
          "data": {
            "text/plain": [
              "7"
            ]
          },
          "execution_count": 26,
          "metadata": {},
          "output_type": "execute_result"
        }
      ],
      "source": [
        "# 引数は左から順番に適用\n",
        "calc(4)"
      ]
    },
    {
      "cell_type": "code",
      "execution_count": 27,
      "metadata": {},
      "outputs": [
        {
          "data": {
            "text/plain": [
              "6"
            ]
          },
          "execution_count": 27,
          "metadata": {},
          "output_type": "execute_result"
        }
      ],
      "source": [
        "# 引数を直接指定してデフォルト値をうまく利用\n",
        "calc(b=4)"
      ]
    },
    {
      "cell_type": "code",
      "execution_count": 28,
      "metadata": {},
      "outputs": [],
      "source": [
        "def abs(number):\n",
        "  if number < 0:\n",
        "    return number * -1\n",
        "  else:\n",
        "    return number"
      ]
    },
    {
      "cell_type": "code",
      "execution_count": 29,
      "metadata": {},
      "outputs": [
        {
          "data": {
            "text/plain": [
              "1"
            ]
          },
          "execution_count": 29,
          "metadata": {},
          "output_type": "execute_result"
        }
      ],
      "source": [
        "abs(-1)"
      ]
    },
    {
      "cell_type": "code",
      "execution_count": 30,
      "metadata": {},
      "outputs": [
        {
          "data": {
            "text/plain": [
              "5.2"
            ]
          },
          "execution_count": 30,
          "metadata": {},
          "output_type": "execute_result"
        }
      ],
      "source": [
        "abs(-5.2)"
      ]
    },
    {
      "cell_type": "code",
      "execution_count": 31,
      "metadata": {},
      "outputs": [
        {
          "data": {
            "text/plain": [
              "3"
            ]
          },
          "execution_count": 31,
          "metadata": {},
          "output_type": "execute_result"
        }
      ],
      "source": [
        "abs(3)"
      ]
    },
    {
      "cell_type": "markdown",
      "metadata": {},
      "source": [
        "# クラスの基礎"
      ]
    },
    {
      "cell_type": "markdown",
      "metadata": {},
      "source": [
        "## init関数"
      ]
    },
    {
      "cell_type": "code",
      "execution_count": 33,
      "metadata": {},
      "outputs": [],
      "source": [
        "class Person:\n",
        "    def __init__(self):\n",
        "        self.name = \"キカガク\"\n",
        "        self.nationality = \"日本\"\n",
        "        self.age = 4"
      ]
    },
    {
      "cell_type": "code",
      "execution_count": 36,
      "metadata": {},
      "outputs": [],
      "source": [
        "#　インスタンス化\n",
        "kikagaku = Person()"
      ]
    },
    {
      "cell_type": "code",
      "execution_count": 39,
      "metadata": {},
      "outputs": [
        {
          "data": {
            "text/plain": [
              "'キカガク'"
            ]
          },
          "execution_count": 39,
          "metadata": {},
          "output_type": "execute_result"
        }
      ],
      "source": [
        "kikagaku.name"
      ]
    },
    {
      "cell_type": "code",
      "execution_count": 41,
      "metadata": {},
      "outputs": [
        {
          "data": {
            "text/plain": [
              "'日本'"
            ]
          },
          "execution_count": 41,
          "metadata": {},
          "output_type": "execute_result"
        }
      ],
      "source": [
        "kikagaku.nationality"
      ]
    },
    {
      "cell_type": "code",
      "execution_count": 43,
      "metadata": {},
      "outputs": [
        {
          "data": {
            "text/plain": [
              "4"
            ]
          },
          "execution_count": 43,
          "metadata": {},
          "output_type": "execute_result"
        }
      ],
      "source": [
        "kikagaku.age"
      ]
    },
    {
      "cell_type": "code",
      "execution_count": 45,
      "metadata": {},
      "outputs": [],
      "source": [
        "mike = Person()"
      ]
    },
    {
      "cell_type": "code",
      "execution_count": 47,
      "metadata": {},
      "outputs": [
        {
          "data": {
            "text/plain": [
              "'キカガク'"
            ]
          },
          "execution_count": 47,
          "metadata": {},
          "output_type": "execute_result"
        }
      ],
      "source": [
        "mike.name"
      ]
    },
    {
      "cell_type": "code",
      "execution_count": 49,
      "metadata": {},
      "outputs": [],
      "source": [
        "class Person:\n",
        "    def __init__(self,name,nationality,age):\n",
        "        self.name = name\n",
        "        self.nationality = nationality\n",
        "        self.age = age"
      ]
    },
    {
      "cell_type": "code",
      "execution_count": 51,
      "metadata": {},
      "outputs": [],
      "source": [
        "kikagaku = Person(name=\"キカガク\",nationality=\"日本\",age=4)"
      ]
    },
    {
      "cell_type": "code",
      "execution_count": 53,
      "metadata": {},
      "outputs": [
        {
          "name": "stdout",
          "output_type": "stream",
          "text": [
            "キカガク\n",
            "日本\n",
            "4\n"
          ]
        }
      ],
      "source": [
        "print(kikagaku.name)\n",
        "print(kikagaku.nationality)\n",
        "print(kikagaku.age)"
      ]
    },
    {
      "cell_type": "code",
      "execution_count": 55,
      "metadata": {},
      "outputs": [],
      "source": [
        "mike = Person(\"マイク\",\"アメリカ\",4)"
      ]
    },
    {
      "cell_type": "code",
      "execution_count": 56,
      "metadata": {},
      "outputs": [
        {
          "name": "stdout",
          "output_type": "stream",
          "text": [
            "マイク\n",
            "アメリカ\n",
            "4\n"
          ]
        }
      ],
      "source": [
        "print(mike.name)\n",
        "print(mike.nationality)\n",
        "print(mike.age)"
      ]
    },
    {
      "cell_type": "code",
      "execution_count": 57,
      "metadata": {},
      "outputs": [],
      "source": [
        "## 通常の関数"
      ]
    },
    {
      "cell_type": "code",
      "execution_count": 58,
      "metadata": {},
      "outputs": [],
      "source": [
        "class Person:\n",
        "    def __init__(self,name,nationality,age):\n",
        "        self.name = name\n",
        "        self.nationality = nationality\n",
        "        self.age = age\n",
        "    \n",
        "    def say_hello(self):\n",
        "        print(\"こんにちはジョンさん。私はキカガクです。\")"
      ]
    },
    {
      "cell_type": "code",
      "execution_count": 60,
      "metadata": {},
      "outputs": [],
      "source": [
        "kikagaku = Person(\"キカガク\",\"日本\",4)"
      ]
    },
    {
      "cell_type": "code",
      "execution_count": 62,
      "metadata": {},
      "outputs": [
        {
          "name": "stdout",
          "output_type": "stream",
          "text": [
            "こんにちはジョンさん。私はキカガクです。\n"
          ]
        }
      ],
      "source": [
        "kikagaku.say_hello()"
      ]
    },
    {
      "cell_type": "code",
      "execution_count": 63,
      "metadata": {},
      "outputs": [
        {
          "name": "stdout",
          "output_type": "stream",
          "text": [
            "こんにちはジョンさん。私はキカガクです。\n"
          ]
        }
      ],
      "source": [
        "mike = Person(\"マイク\",\"アメリカ\",4)\n",
        "mike.say_hello()"
      ]
    },
    {
      "cell_type": "code",
      "execution_count": 64,
      "metadata": {},
      "outputs": [],
      "source": [
        "class Person:\n",
        "    def __init__(self,name,nationality,age):\n",
        "        self.name = name\n",
        "        self.nationality = nationality\n",
        "        self.age = age\n",
        "    \n",
        "    def say_hello(self,name):\n",
        "        print(f\"こんにちは{name}さん。私はキカガクです。\")"
      ]
    },
    {
      "cell_type": "code",
      "execution_count": 65,
      "metadata": {},
      "outputs": [
        {
          "name": "stdout",
          "output_type": "stream",
          "text": [
            "こんにちはボブさん。私はキカガクです。\n"
          ]
        }
      ],
      "source": [
        "mike = Person(\"マイク\",\"アメリカ\",4)\n",
        "mike.say_hello(\"ボブ\")"
      ]
    },
    {
      "cell_type": "code",
      "execution_count": 66,
      "metadata": {},
      "outputs": [],
      "source": [
        "class Person:\n",
        "    def __init__(self,name,nationality,age):\n",
        "        self.name = name\n",
        "        self.nationality = nationality\n",
        "        self.age = age\n",
        "    \n",
        "    def say_hello(self,name):\n",
        "        print(f\"こんにちは{name}さん。私は{self.name}です。\")"
      ]
    },
    {
      "cell_type": "code",
      "execution_count": 67,
      "metadata": {},
      "outputs": [
        {
          "name": "stdout",
          "output_type": "stream",
          "text": [
            "こんにちはボブさん。私はマイクです。\n"
          ]
        }
      ],
      "source": [
        "mike = Person(\"マイク\",\"アメリカ\",4)\n",
        "mike.say_hello(\"ボブ\")"
      ]
    },
    {
      "cell_type": "markdown",
      "metadata": {},
      "source": [
        "# Call関数"
      ]
    },
    {
      "cell_type": "code",
      "execution_count": 68,
      "metadata": {},
      "outputs": [],
      "source": [
        "class Person:\n",
        "    def __init__(self,name,nationality,age):\n",
        "        self.name = name\n",
        "        self.nationality = nationality\n",
        "        self.age = age\n",
        "    \n",
        "    def __call__(self,name):\n",
        "        print(f\"こんにちは{name}さん。私は{self.name}です。\")\n",
        "\n",
        "    def say_hello(self,name):\n",
        "        print(f\"こんにちは{name}さん。私は{self.name}です。\")"
      ]
    },
    {
      "cell_type": "code",
      "execution_count": 70,
      "metadata": {},
      "outputs": [],
      "source": [
        "kikagaku = Person(\"キカガク\",\"日本\",4)"
      ]
    },
    {
      "cell_type": "code",
      "execution_count": 72,
      "metadata": {},
      "outputs": [
        {
          "name": "stdout",
          "output_type": "stream",
          "text": [
            "こんにちはケンさん。私はキカガクです。\n"
          ]
        }
      ],
      "source": [
        "kikagaku.__call__(\"ケン\")"
      ]
    },
    {
      "cell_type": "code",
      "execution_count": 73,
      "metadata": {},
      "outputs": [
        {
          "name": "stdout",
          "output_type": "stream",
          "text": [
            "こんにちはケンさん。私はキカガクです。\n"
          ]
        }
      ],
      "source": [
        "kikagaku(\"ケン\")"
      ]
    }
  ],
  "metadata": {
    "colab": {
      "provenance": []
    },
    "kernelspec": {
      "display_name": "Python 3",
      "name": "python3"
    },
    "language_info": {
      "codemirror_mode": {
        "name": "ipython",
        "version": 3
      },
      "file_extension": ".py",
      "mimetype": "text/x-python",
      "name": "python",
      "nbconvert_exporter": "python",
      "pygments_lexer": "ipython3",
      "version": "3.11.3"
    }
  },
  "nbformat": 4,
  "nbformat_minor": 0
}
